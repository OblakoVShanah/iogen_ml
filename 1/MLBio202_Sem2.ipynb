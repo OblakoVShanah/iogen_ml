{
 "nbformat": 4,
 "nbformat_minor": 5,
 "metadata": {
  "kernelspec": {
   "display_name": "Python 3",
   "language": "python",
   "name": "python3"
  },
  "language_info": {
   "codemirror_mode": {
    "name": "ipython",
    "version": 3
   },
   "file_extension": ".py",
   "mimetype": "text/x-python",
   "name": "python",
   "nbconvert_exporter": "python",
   "pygments_lexer": "ipython3",
   "version": "3.7.10"
  },
  "colab": {
   "provenance": [],
   "collapsed_sections": [],
   "toc_visible": true
  }
 },
 "cells": [
  {
   "cell_type": "code",
   "metadata": {
    "id": "654ff1e0-8eac-452c-a57e-66501bb1a884",
    "pycharm": {
     "name": "#%%\n"
    }
   },
   "source": [
    "import numpy as np\n",
    "import pandas as pd\n",
    "\n",
    "import matplotlib.pyplot as plt\n",
    "import seaborn as sns\n",
    "\n",
    "sns.set()\n",
    "sns.set_style(\"whitegrid\")"
   ],
   "id": "654ff1e0-8eac-452c-a57e-66501bb1a884",
   "execution_count": null,
   "outputs": []
  },
  {
   "cell_type": "markdown",
   "metadata": {
    "id": "89d5e03d-32f0-48ab-9974-1bc2327f6ede",
    "pycharm": {
     "name": "#%% md\n"
    }
   },
   "source": [
    "### Задача 1: Предсказание растворимости белков"
   ],
   "id": "89d5e03d-32f0-48ab-9974-1bc2327f6ede"
  },
  {
   "cell_type": "markdown",
   "metadata": {
    "id": "82a27b22-3e1c-484a-bd21-c231de7bb52a",
    "pycharm": {
     "name": "#%% md\n"
    }
   },
   "source": [
    "В этой задаче предлагается произвести предсказание растворимости различных белков, используя их физико-химические свойства и белковый состав."
   ],
   "id": "82a27b22-3e1c-484a-bd21-c231de7bb52a"
  },
  {
   "cell_type": "code",
   "metadata": {
    "id": "S22zU4DvNk6h",
    "outputId": "b4a28596-a2c7-4b9c-a015-a9754042449b",
    "colab": {
     "base_uri": "https://localhost:8080/"
    },
    "pycharm": {
     "name": "#%%\n"
    }
   },
   "source": [
    "# !wget --no-check-certificate 'https://docs.google.com/uc?export=download&id=1KNyRSO87bQF0NFVwHQD2TynthsoplAZO' -O solubility_data.csv\n",
    "\n",
    "import urllib.request\n",
    "urllib.request.urlretrieve(\"https://docs.google.com/uc?export=download&id=1KNyRSO87bQF0NFVwHQD2TynthsoplAZO\", \"solubility_data.csv\")"
   ],
   "id": "S22zU4DvNk6h",
   "execution_count": null,
   "outputs": [
    {
     "data": {
      "text/plain": "('solubility_data.csv', <http.client.HTTPMessage at 0x1ae9b350b50>)"
     },
     "execution_count": 5,
     "metadata": {},
     "output_type": "execute_result"
    }
   ]
  },
  {
   "cell_type": "markdown",
   "metadata": {
    "id": "22d78c75-e3bf-435c-8b16-7cf21ff153f2",
    "pycharm": {
     "name": "#%% md\n"
    }
   },
   "source": [
    "Датасет `solubility_data.csv` загружен за вас, определены `X` и `y`."
   ],
   "id": "22d78c75-e3bf-435c-8b16-7cf21ff153f2"
  },
  {
   "cell_type": "code",
   "metadata": {
    "id": "9da660ce-7081-41ca-a067-c60c625b7f4b",
    "outputId": "e7903bab-54f7-400e-d37c-f98d9d859927",
    "colab": {
     "base_uri": "https://localhost:8080/",
     "height": 268
    },
    "pycharm": {
     "name": "#%%\n"
    }
   },
   "source": [
    "sol = pd.read_csv(\"./solubility_data.csv\", header=0, index_col=0)\n",
    "sol.head(3)"
   ],
   "id": "9da660ce-7081-41ca-a067-c60c625b7f4b",
   "execution_count": null,
   "outputs": [
    {
     "data": {
      "text/plain": "            solubility  protein_sasa  length  molecular_weight  \\\nuniprot_id                                                       \nP32643              78  14538.357720     293        33936.5675   \nQ46829              70  19283.018950     470        54516.1438   \nP65556              19   8407.794332     157        17692.5095   \n\n            instability_index  isoelectric_point  helix_fraction  \\\nuniprot_id                                                         \nP32643              40.259795           5.866034        0.310580   \nQ46829              34.295149           5.655559        0.329787   \nP65556              54.505159           4.679577        0.286624   \n\n            turn_fraction  sheet_fraction  \\\nuniprot_id                                  \nP32643           0.208191        0.187713   \nQ46829           0.214894        0.225532   \nP65556           0.165605        0.312102   \n\n            reduced_molar_extinction_coefficient  ...   A2   B2    C2  A3  \\\nuniprot_id                                        ...                       \nP32643                                     59360  ...    0  0.0   0.0   0   \nQ46829                                    111160  ...  279  1.1  92.5   0   \nP65556                                     24980  ...    0  0.0   0.0   0   \n\n             B3   C3  A4   B4  C4  TM  \nuniprot_id                             \nP32643      0.0  0.0   0  0.0   0   0  \nQ46829      0.0  0.0   0  0.0   0   0  \nP65556      0.0  0.0   0  0.0   0   0  \n\n[3 rows x 46 columns]",
      "text/html": "<div>\n<style scoped>\n    .dataframe tbody tr th:only-of-type {\n        vertical-align: middle;\n    }\n\n    .dataframe tbody tr th {\n        vertical-align: top;\n    }\n\n    .dataframe thead th {\n        text-align: right;\n    }\n</style>\n<table border=\"1\" class=\"dataframe\">\n  <thead>\n    <tr style=\"text-align: right;\">\n      <th></th>\n      <th>solubility</th>\n      <th>protein_sasa</th>\n      <th>length</th>\n      <th>molecular_weight</th>\n      <th>instability_index</th>\n      <th>isoelectric_point</th>\n      <th>helix_fraction</th>\n      <th>turn_fraction</th>\n      <th>sheet_fraction</th>\n      <th>reduced_molar_extinction_coefficient</th>\n      <th>...</th>\n      <th>A2</th>\n      <th>B2</th>\n      <th>C2</th>\n      <th>A3</th>\n      <th>B3</th>\n      <th>C3</th>\n      <th>A4</th>\n      <th>B4</th>\n      <th>C4</th>\n      <th>TM</th>\n    </tr>\n    <tr>\n      <th>uniprot_id</th>\n      <th></th>\n      <th></th>\n      <th></th>\n      <th></th>\n      <th></th>\n      <th></th>\n      <th></th>\n      <th></th>\n      <th></th>\n      <th></th>\n      <th></th>\n      <th></th>\n      <th></th>\n      <th></th>\n      <th></th>\n      <th></th>\n      <th></th>\n      <th></th>\n      <th></th>\n      <th></th>\n      <th></th>\n    </tr>\n  </thead>\n  <tbody>\n    <tr>\n      <th>P32643</th>\n      <td>78</td>\n      <td>14538.357720</td>\n      <td>293</td>\n      <td>33936.5675</td>\n      <td>40.259795</td>\n      <td>5.866034</td>\n      <td>0.310580</td>\n      <td>0.208191</td>\n      <td>0.187713</td>\n      <td>59360</td>\n      <td>...</td>\n      <td>0</td>\n      <td>0.0</td>\n      <td>0.0</td>\n      <td>0</td>\n      <td>0.0</td>\n      <td>0.0</td>\n      <td>0</td>\n      <td>0.0</td>\n      <td>0</td>\n      <td>0</td>\n    </tr>\n    <tr>\n      <th>Q46829</th>\n      <td>70</td>\n      <td>19283.018950</td>\n      <td>470</td>\n      <td>54516.1438</td>\n      <td>34.295149</td>\n      <td>5.655559</td>\n      <td>0.329787</td>\n      <td>0.214894</td>\n      <td>0.225532</td>\n      <td>111160</td>\n      <td>...</td>\n      <td>279</td>\n      <td>1.1</td>\n      <td>92.5</td>\n      <td>0</td>\n      <td>0.0</td>\n      <td>0.0</td>\n      <td>0</td>\n      <td>0.0</td>\n      <td>0</td>\n      <td>0</td>\n    </tr>\n    <tr>\n      <th>P65556</th>\n      <td>19</td>\n      <td>8407.794332</td>\n      <td>157</td>\n      <td>17692.5095</td>\n      <td>54.505159</td>\n      <td>4.679577</td>\n      <td>0.286624</td>\n      <td>0.165605</td>\n      <td>0.312102</td>\n      <td>24980</td>\n      <td>...</td>\n      <td>0</td>\n      <td>0.0</td>\n      <td>0.0</td>\n      <td>0</td>\n      <td>0.0</td>\n      <td>0.0</td>\n      <td>0</td>\n      <td>0.0</td>\n      <td>0</td>\n      <td>0</td>\n    </tr>\n  </tbody>\n</table>\n<p>3 rows × 46 columns</p>\n</div>"
     },
     "execution_count": 6,
     "metadata": {},
     "output_type": "execute_result"
    }
   ]
  },
  {
   "cell_type": "code",
   "metadata": {
    "id": "26dd218d-46fe-4e82-b7ac-eceb40f2042d",
    "pycharm": {
     "name": "#%%\n"
    }
   },
   "source": [
    "X = sol.iloc[:,1:]\n",
    "y = sol[\"solubility\"]"
   ],
   "id": "26dd218d-46fe-4e82-b7ac-eceb40f2042d",
   "execution_count": null,
   "outputs": []
  },
  {
   "cell_type": "markdown",
   "metadata": {
    "id": "a81b5a30-1c29-43de-b8e1-9604c77da775",
    "pycharm": {
     "name": "#%% md\n"
    }
   },
   "source": [
    "**Разбейте X и y на тренировочную и тестовую выборки**, как в лекции. Соотношение train/test поставьте равным 4:1.\\\n",
    "*Подсказка*: воспользуйтесь функцией `train_test_split`."
   ],
   "id": "a81b5a30-1c29-43de-b8e1-9604c77da775"
  },
  {
   "cell_type": "code",
   "metadata": {
    "id": "eb40457f-b8b5-447d-8497-efe3b0671b71",
    "pycharm": {
     "name": "#%%\n"
    }
   },
   "source": [
    "from sklearn.model_selection import train_test_split\n",
    "\n",
    "X_train, X_test, y_train, y_test = \\\n",
    "  train_test_split(X, y, train_size=0.8, random_state=42)"
   ],
   "id": "eb40457f-b8b5-447d-8497-efe3b0671b71",
   "execution_count": null,
   "outputs": []
  },
  {
   "cell_type": "markdown",
   "metadata": {
    "id": "29b75ec0-447f-4b6c-bb9f-31fa67acf73f",
    "pycharm": {
     "name": "#%% md\n"
    }
   },
   "source": [
    "**Осуществите стандартизацию признаков в выборке**."
   ],
   "id": "29b75ec0-447f-4b6c-bb9f-31fa67acf73f"
  },
  {
   "cell_type": "code",
   "metadata": {
    "id": "0462e61c-0fba-442b-be4d-ed4eeefc30db",
    "pycharm": {
     "name": "#%%\n"
    }
   },
   "source": [
    " from sklearn.preprocessing import Normalizer\n",
    "\n",
    " normalizer = Normalizer().fit(X_train)\n",
    " X_train_norm = normalizer.transform(X_train)\n",
    " X_test_norm = normalizer.transform(X_test)"
   ],
   "id": "0462e61c-0fba-442b-be4d-ed4eeefc30db",
   "execution_count": null,
   "outputs": []
  },
  {
   "cell_type": "markdown",
   "metadata": {
    "id": "0c151708-47a0-4437-a0d9-596f9fe6d726",
    "pycharm": {
     "name": "#%% md\n"
    }
   },
   "source": [
    "**Импортируйте модель регрессии k-NN и обучите ее (`model.fit`)**.\\\n",
    "*Вопрос*: на какой части выборки происходит обучение: тренировочной или ~тестовой~?"
   ],
   "id": "0c151708-47a0-4437-a0d9-596f9fe6d726"
  },
  {
   "cell_type": "markdown",
   "metadata": {
    "id": "381dbe6d-1366-4ed4-b8f9-81379d7506a0",
    "pycharm": {
     "name": "#%% md\n"
    }
   },
   "source": [
    "**Получите предсказание на оставшейся выборке**. Оцените его качество метриками RMSE, MAE."
   ],
   "id": "381dbe6d-1366-4ed4-b8f9-81379d7506a0"
  },
  {
   "cell_type": "code",
   "metadata": {
    "id": "f56a89e5-4a31-4ccb-ba4f-c61a467b84a2",
    "pycharm": {
     "name": "#%%\n"
    }
   },
   "source": [
    "from sklearn.neighbors import KNeighborsRegressor\n",
    "\n",
    "knn = KNeighborsRegressor()"
   ],
   "id": "f56a89e5-4a31-4ccb-ba4f-c61a467b84a2",
   "execution_count": null,
   "outputs": []
  },
  {
   "cell_type": "code",
   "source": [
    "from sklearn.model_selection import GridSearchCV\n",
    "from sklearn.metrics import mean_absolute_error, mean_squared_error, make_scorer\n",
    "\n",
    "\n",
    "def mae_score(*args, **kwargs):\n",
    "    return - mean_absolute_error(*args, **kwargs)\n",
    "\n",
    "def mse_score(*args, **kwargs):\n",
    "    return - mean_squared_error(*args, **kwargs)\n",
    "\n",
    "mae_scorer = make_scorer(mae_score)\n",
    "mse_scorer = make_scorer(mse_score)\n",
    "\n",
    "parameters = {'weights': ['uniform', 'distance'], 'n_neighbors': np.arange(1, 50, 3), 'p': np.linspace(1, 3, 10)}\n",
    "\n",
    "gridsearch = GridSearchCV(knn, parameters, scoring=mae_scorer)\n",
    "gridsearch.fit(X_train_norm, y_train)\n",
    "print(gridsearch.best_params_)\n",
    "y_pred = gridsearch.predict(X_test_norm)\n",
    "print('GridSearch on MAE metrics\\nBest params MAE: ',mean_absolute_error(y_pred, y_test), '\\nAverage approximation MAE', mean_absolute_error(np.ones(len(y_test))*y_test.mean(), y_test))\n",
    "print('Best params MSE: ', mean_squared_error(y_pred, y_test), '\\nAverage approximation MSE', mean_squared_error(np.ones(len(y_test))*y_test.mean(), y_test))\n",
    "\n",
    "gridsearch = GridSearchCV(knn, parameters, scoring=mse_scorer)\n",
    "gridsearch.fit(X_train_norm, y_train)\n",
    "print('\\n',gridsearch.best_params_)\n",
    "y_pred = gridsearch.predict(X_test_norm)\n",
    "print('GridSearch on MSE metrics\\nBest params MAE: ', mean_absolute_error(y_pred, y_test), '\\nAverage approximation MAE', mean_absolute_error(np.ones(len(y_test))*y_test.mean(), y_test))\n",
    "print('Best params MSE: ', mean_squared_error(y_pred, y_test), '\\nAverage approximation MSE', mean_squared_error(np.ones(len(y_test))*y_test.mean(), y_test))"
   ],
   "metadata": {
    "id": "VmA8QUMOJUEd",
    "outputId": "3aca0c1e-550f-4052-ccaa-917f026e691f",
    "colab": {
     "base_uri": "https://localhost:8080/"
    },
    "pycharm": {
     "name": "#%%\n"
    }
   },
   "id": "VmA8QUMOJUEd",
   "execution_count": null,
   "outputs": [
    {
     "name": "stdout",
     "output_type": "stream",
     "text": [
      "{'n_neighbors': 13, 'p': 2.111111111111111, 'weights': 'uniform'}\n",
      "GridSearch on MAE metrics\n",
      "Best params MAE:  25.87427626137303 \n",
      "Average approximation MAE 26.947624002774887\n",
      "Best params MSE:  924.00318126869 \n",
      "Average approximation MSE 985.1425598335071\n",
      "\n",
      " {'n_neighbors': 19, 'p': 1.4444444444444444, 'weights': 'uniform'}\n",
      "GridSearch on MSE metrics\n",
      "Best params MAE:  25.20826259196378 \n",
      "Average approximation MAE 26.947624002774887\n",
      "Best params MSE:  895.8942900545079 \n",
      "Average approximation MSE 985.1425598335071\n",
      "{'n_neighbors': 13, 'p': 2.111111111111111, 'weights': 'uniform'}\n",
      "GridSearch on MAE metrics\n",
      "Best params MAE:  25.87427626137303 \n",
      "Average approximation MAE 26.947624002774887\n",
      "Best params MSE:  924.00318126869 \n",
      "Average approximation MSE 985.1425598335071\n",
      "\n",
      " {'n_neighbors': 19, 'p': 1.4444444444444444, 'weights': 'uniform'}\n",
      "GridSearch on MSE metrics\n",
      "Best params MAE:  25.20826259196378 \n",
      "Average approximation MAE 26.947624002774887\n",
      "Best params MSE:  895.8942900545079 \n",
      "Average approximation MSE 985.1425598335071\n",
      "{'n_neighbors': 13, 'p': 2.111111111111111, 'weights': 'uniform'}\n",
      "GridSearch on MAE metrics\n",
      "Best params MAE:  25.87427626137303 \n",
      "Average approximation MAE 26.947624002774887\n",
      "Best params MSE:  924.00318126869 \n",
      "Average approximation MSE 985.1425598335071\n",
      "\n",
      " {'n_neighbors': 19, 'p': 1.4444444444444444, 'weights': 'uniform'}\n",
      "GridSearch on MSE metrics\n",
      "Best params MAE:  25.20826259196378 \n",
      "Average approximation MAE 26.947624002774887\n",
      "Best params MSE:  895.8942900545079 \n",
      "Average approximation MSE 985.1425598335071\n"
     ]
    }
   ]
  },
  {
   "cell_type": "markdown",
   "metadata": {
    "id": "3a8da971-b518-4052-8261-f970870b3743",
    "pycharm": {
     "name": "#%% md\n"
    }
   },
   "source": [
    "Следующая функция строит график зависимости качества на тестовой и тренировочной выборках от параметра модели.\\\n",
    "Измените помеченную строку в функции так, чтобы ее можно было использовать **для построения графика зависимости качества от количества соседей для модели k-NN**."
   ],
   "id": "3a8da971-b518-4052-8261-f970870b3743"
  },
  {
   "cell_type": "code",
   "metadata": {
    "id": "c5f6c835-17e6-43cd-aa37-b1c4b6ad25dd",
    "pycharm": {
     "name": "#%%\n"
    }
   },
   "source": [
    "from sklearn.metrics import mean_squared_error\n",
    "\n",
    "def make_qual_chart(X_train, X_test, y_train, y_test, metric=mean_squared_error, limit=50):\n",
    "    train_quals = np.zeros(limit)\n",
    "    test_quals = np.zeros(limit)\n",
    "    param_range = np.arange(1, limit + 1)\n",
    "    \n",
    "    for ind, value in enumerate(param_range):\n",
    "        ### CHANGE THE NEXT LINE!\n",
    "        model = KNeighborsRegressor(n_neighbors=value)\n",
    "        # FIT\n",
    "        model.fit(X_train, y_train)\n",
    "        # PREDICT\n",
    "        y_train_pred = model.predict(X_train)\n",
    "        y_test_pred = model.predict(X_test)\n",
    "        # EVALUATE QUALITY\n",
    "        train_quals[ind] = metric(y_true=y_train, y_pred=y_train_pred)\n",
    "        test_quals[ind] = metric(y_true=y_test, y_pred=y_test_pred)\n",
    "    \n",
    "    baseline = metric(y_true=y_test, y_pred=np.full_like(y_test, y_train.mean()))\n",
    "    \n",
    "    # TRACING CHART\n",
    "    plt.figure(figsize=(10, 7))\n",
    "    plt.plot(param_range, train_quals, label=\"Train\")\n",
    "    plt.plot(param_range, test_quals, label=\"Test\")\n",
    "    baseline_array = np.full_like(param_range, baseline)\n",
    "    plt.plot(param_range, baseline_array, label=\"Baseline\")\n",
    "    # plt.axhline(baseline, color=\"k\", ls=\"--\", lw=1.5, label=\"Baseline\")\n",
    "    plt.legend()\n",
    "    plt.show()\n",
    "    return param_range, train_quals, test_quals"
   ],
   "id": "c5f6c835-17e6-43cd-aa37-b1c4b6ad25dd",
   "execution_count": null,
   "outputs": []
  },
  {
   "cell_type": "code",
   "metadata": {
    "id": "3589c57d-d338-41ab-98e8-8e9c12bcda50",
    "pycharm": {
     "name": "#%%\n"
    },
    "outputId": "8b25dff9-b4ae-43f9-df2a-1e29f1bb4e82"
   },
   "source": [
    "make_qual_chart(X_train_norm, X_test_norm, y_train, y_test, metric=mean_squared_error, limit=200)"
   ],
   "id": "3589c57d-d338-41ab-98e8-8e9c12bcda50",
   "execution_count": null,
   "outputs": [
    {
     "data": {
      "text/plain": "<Figure size 720x504 with 1 Axes>",
      "image/png": "[encoded data removed]"
     },
     "metadata": {},
     "output_type": "display_data"
    },
    {
     "data": {
      "text/plain": "(array([  1,   2,   3,   4,   5,   6,   7,   8,   9,  10,  11,  12,  13,\n         14,  15,  16,  17,  18,  19,  20,  21,  22,  23,  24,  25,  26,\n         27,  28,  29,  30,  31,  32,  33,  34,  35,  36,  37,  38,  39,\n         40,  41,  42,  43,  44,  45,  46,  47,  48,  49,  50,  51,  52,\n         53,  54,  55,  56,  57,  58,  59,  60,  61,  62,  63,  64,  65,\n         66,  67,  68,  69,  70,  71,  72,  73,  74,  75,  76,  77,  78,\n         79,  80,  81,  82,  83,  84,  85,  86,  87,  88,  89,  90,  91,\n         92,  93,  94,  95,  96,  97,  98,  99, 100, 101, 102, 103, 104,\n        105, 106, 107, 108, 109, 110, 111, 112, 113, 114, 115, 116, 117,\n        118, 119, 120, 121, 122, 123, 124, 125, 126, 127, 128, 129, 130,\n        131, 132, 133, 134, 135, 136, 137, 138, 139, 140, 141, 142, 143,\n        144, 145, 146, 147, 148, 149, 150, 151, 152, 153, 154, 155, 156,\n        157, 158, 159, 160, 161, 162, 163, 164, 165, 166, 167, 168, 169,\n        170, 171, 172, 173, 174, 175, 176, 177, 178, 179, 180, 181, 182,\n        183, 184, 185, 186, 187, 188, 189, 190, 191, 192, 193, 194, 195,\n        196, 197, 198, 199, 200]),\n array([  0.        , 437.42540323, 566.82317802, 656.33602151,\n        710.09268817, 718.98752987, 740.94124424, 752.90440188,\n        759.95781893, 764.02413978, 780.34284191, 779.8712851 ,\n        789.96448114, 793.64313145, 787.75260454, 796.10439768,\n        805.2220951 , 814.46420749, 820.22754148, 821.65890457,\n        824.844531  , 831.52266062, 831.78478363, 837.10079712,\n        849.91049462, 848.79467694, 850.93970235, 855.95216837,\n        861.03529784, 861.70520012, 863.60916048, 864.96501701,\n        863.18421261, 869.714691  , 868.15179724, 873.01844592,\n        877.37161573, 875.88394878, 882.09785582, 885.72378696,\n        887.3157043 , 891.21654719, 894.51569869, 897.2593364 ,\n        898.3435152 , 898.63289555, 897.79473391, 898.21651919,\n        899.03719216, 898.88245914, 898.20684972, 903.89812385,\n        903.42538002, 907.8041202 , 905.51913623, 908.97871578,\n        910.99649354, 912.15169953, 911.52795282, 913.43746789,\n        915.07638064, 918.97401061, 920.30658707, 921.82202805,\n        920.77080422, 920.94960356, 923.32302917, 924.72221718,\n        926.43701344, 925.75649605, 929.09783965, 930.36965995,\n        931.12138895, 928.51762235, 930.97649749, 932.63297702,\n        933.55930663, 932.46809541, 932.34445472, 932.1469002 ,\n        933.82128019, 932.22913348, 931.78908249, 932.50813919,\n        935.02492019, 935.27844316, 933.27013732, 934.84042727,\n        936.4044713 , 938.1840681 , 938.75788273, 940.10913108,\n        941.79770612, 943.26040465, 944.14541268, 945.23357141,\n        944.91985053, 944.1349824 , 943.44035911, 944.36553091,\n        943.82316118, 943.70967096, 946.27672741, 946.78633928,\n        948.91692732, 947.34069375, 946.73114805, 946.71404386,\n        948.26834432, 948.18298654, 949.20422559, 949.75756606,\n        948.92702757, 950.49597995, 951.73140517, 952.15772174,\n        953.05858031, 953.79100312, 954.59511224, 954.499389  ,\n        954.78890753, 953.72791343, 952.88792638, 953.10551862,\n        953.09157299, 952.97877841, 954.82938233, 956.78545142,\n        956.98550494, 957.77756283, 959.02415548, 959.91276262,\n        959.12680729, 960.31457152, 961.15747555, 958.4500014 ,\n        958.45841891, 957.55195326, 957.40578834, 957.81640361,\n        958.71364457, 959.59185805, 959.40802873, 959.25285683,\n        959.20065692, 959.14547921, 960.06700464, 960.62290054,\n        961.60889621, 962.56453895, 962.90026517, 962.53267192,\n        963.47026027, 963.64207651, 964.48367247, 964.72039531,\n        965.85917104, 966.43629429, 967.35084425, 968.80247532,\n        968.63326213, 969.1715283 , 968.80047236, 969.31479498,\n        968.73321139, 968.80221888, 968.70574979, 969.13600766,\n        968.82244492, 968.51193232, 968.54290862, 969.29868159,\n        968.23406336, 967.97000534, 967.7934844 , 967.76579475,\n        967.53159325, 966.77837937, 966.8857305 , 967.92480843,\n        967.68724565, 968.29363337, 968.44155014, 968.66760081,\n        969.10689939, 969.99386264, 969.66312082, 970.18989003,\n        969.90164621, 970.98961092, 971.57224382, 972.19221487,\n        972.46390983, 973.35343905, 973.06735403, 974.59067158,\n        974.8888078 , 974.84993768, 973.90063369, 974.0815793 ]),\n array([1580.41935484, 1214.00806452, 1137.72759857,  999.39180108,\n         953.2111828 ,  935.8109319 ,  915.55518982,  913.32056452,\n         891.9050843 ,  906.64247312,  931.63334222,  937.56474014,\n         924.7013425 ,  917.59562212,  927.9595221 ,  924.41847278,\n         903.24280984,  894.69059472,  887.32165728,  887.46473118,\n         875.33206544,  869.64796054,  868.55454601,  869.8719198 ,\n         883.74196989,  874.57509385,  866.51216131,  855.00355223,\n         849.28548962,  854.01358423,  857.46260056,  864.21354167,\n         869.4469228 ,  867.03092793,  866.71387316,  868.35685484,\n         867.27006606,  864.20549996,  866.75654104,  864.5215457 ,\n         858.31354225,  859.35617975,  870.84795036,  871.94299853,\n         872.48792247,  866.44753237,  871.91469404,  872.9510762 ,\n         865.17343132,  862.61111828,  863.68997863,  864.56586817,\n         870.88378752,  872.62038881,  870.04382831,  874.23684716,\n         879.12424005,  878.4616496 ,  880.86092243,  888.27001195,\n         886.45111009,  891.59127477,  893.09430614,  893.72597184,\n         889.41535917,  887.99371032,  888.21959533,  892.01167122,\n         895.24268417,  893.65380733,  893.86833556,  894.05562608,\n         899.10756925,  898.84966069,  902.93327599,  906.01744519,\n         908.82410496,  911.6426039 ,  910.53700727,  910.44518481,\n         910.53909137,  915.60194585,  915.75890035,  920.40593988,\n         922.87248875,  925.54770669,  926.9081994 ,  925.9476834 ,\n         927.41562174,  927.22745918,  929.52822305,  928.11819699,\n         926.08990784,  927.15254677,  926.55679981,  927.0068126 ,\n         923.24818836,  922.97107612,  925.53253179,  927.6626086 ,\n         927.70708754,  925.26031138,  922.78921022,  925.63856811,\n         922.68014727,  919.88475407,  921.40343196,  922.2031303 ,\n         923.28875687,  922.47141385,  921.12844754,  920.79118406,\n         924.34591842,  928.70255281,  931.22014594,  929.34647453,\n         931.21677243,  931.28503427,  931.34974825,  933.27471177,\n         933.99602604,  932.83612554,  934.53166993,  933.64432001,\n         934.31431157,  933.23488555,  935.43671687,  934.96805236,\n         936.91524238,  937.14885792,  937.15388857,  938.09346952,\n         936.36352523,  941.09917732,  942.00362848,  940.57056684,\n         940.49582674,  941.77919442,  941.31802379,  942.55929504,\n         943.21041054,  942.80844814,  942.18627511,  940.77680394,\n         941.93481033,  939.12515562,  939.89203175,  939.42792056,\n         940.51591496,  944.67442342,  944.87440798,  946.79910382,\n         946.12978603,  946.96323339,  948.94897967,  946.67511559,\n         948.42642834,  949.35906673,  948.5959548 ,  948.22049059,\n         948.79549276,  949.35747894,  949.53476624,  948.77499992,\n         951.30151012,  951.80533405,  952.94699494,  955.33287083,\n         957.35560748,  956.08184135,  954.89537669,  955.68695844,\n         954.58527476,  952.43765032,  954.39866052,  954.82425138,\n         953.80928419,  953.53721223,  953.37464431,  951.93389619,\n         949.94986991,  948.65669534,  949.26122877,  948.90253375,\n         949.25299685,  948.2493989 ,  948.3641425 ,  947.74661271,\n         947.87067997,  948.03963095,  948.12170365,  948.98886229,\n         948.54854558,  948.79844538,  951.00344991,  950.41713466,\n         948.2614935 ,  949.23051932,  949.44577917,  948.9245957 ]))"
     },
     "execution_count": 38,
     "metadata": {},
     "output_type": "execute_result"
    }
   ]
  },
  {
   "cell_type": "code",
   "execution_count": null,
   "outputs": [
    {
     "data": {
      "text/plain": "<Figure size 720x504 with 1 Axes>",
      "image/png": "[encoded data removed]"
     },
     "metadata": {},
     "output_type": "display_data"
    },
    {
     "data": {
      "text/plain": "(array([  1,   2,   3,   4,   5,   6,   7,   8,   9,  10,  11,  12,  13,\n         14,  15,  16,  17,  18,  19,  20,  21,  22,  23,  24,  25,  26,\n         27,  28,  29,  30,  31,  32,  33,  34,  35,  36,  37,  38,  39,\n         40,  41,  42,  43,  44,  45,  46,  47,  48,  49,  50,  51,  52,\n         53,  54,  55,  56,  57,  58,  59,  60,  61,  62,  63,  64,  65,\n         66,  67,  68,  69,  70,  71,  72,  73,  74,  75,  76,  77,  78,\n         79,  80,  81,  82,  83,  84,  85,  86,  87,  88,  89,  90,  91,\n         92,  93,  94,  95,  96,  97,  98,  99, 100, 101, 102, 103, 104,\n        105, 106, 107, 108, 109, 110, 111, 112, 113, 114, 115, 116, 117,\n        118, 119, 120, 121, 122, 123, 124, 125, 126, 127, 128, 129, 130,\n        131, 132, 133, 134, 135, 136, 137, 138, 139, 140, 141, 142, 143,\n        144, 145, 146, 147, 148, 149, 150, 151, 152, 153, 154, 155, 156,\n        157, 158, 159, 160, 161, 162, 163, 164, 165, 166, 167, 168, 169,\n        170, 171, 172, 173, 174, 175, 176, 177, 178, 179, 180, 181, 182,\n        183, 184, 185, 186, 187, 188, 189, 190, 191, 192, 193, 194, 195,\n        196, 197, 198, 199, 200]),\n array([  0.        , 391.5141129 , 529.1744325 , 620.41616263,\n        655.08354839, 659.42682198, 673.15404872, 683.85525874,\n        693.68926722, 691.35094086, 698.63169821, 709.99501568,\n        719.5323535 , 729.46829054, 743.66566308, 759.55017221,\n        766.18798601, 764.49407607, 759.5622673 , 756.45727151,\n        754.91439909, 760.87863792, 753.47777303, 758.32714494,\n        761.17071828, 768.5738452 , 766.54580586, 768.8127743 ,\n        772.01383402, 775.61388889, 772.84002719, 781.74341083,\n        780.45685842, 787.07625712, 787.55086899, 792.13032656,\n        789.13072685, 791.29890649, 791.43530537, 786.76643481,\n        789.24041629, 789.03194262, 787.94126293, 791.57163923,\n        793.87537103, 793.0440004 , 792.98535317, 793.61275272,\n        794.41669018, 796.95187957, 800.82645943, 801.68586662,\n        802.04157815, 801.92401212, 803.26194259, 800.46736905,\n        802.20653832, 804.71680459, 803.75232136, 803.76620818,\n        803.18814026, 802.83473966, 803.6810747 , 805.19566362,\n        803.83286251, 803.63466594, 804.39411692, 803.84125658,\n        806.65846551, 806.99300033, 807.36448435, 807.36444436,\n        809.00464692, 807.89697713, 807.94916368, 808.70625065,\n        809.47754386, 810.44113725, 809.56093032, 809.36588458,\n        809.57195091, 808.77034199, 807.40512614, 807.44712233,\n        806.30147859, 806.71770304, 807.00920741, 808.1869498 ,\n        807.06626695, 808.68594086, 809.93972859, 810.2898014 ,\n        811.67015921, 810.68441329, 810.60403896, 810.98285386,\n        810.75991787, 810.64174537, 810.74563463, 810.38233118,\n        810.3429268 , 811.40272714, 811.87817303, 812.75893415,\n        813.54245191, 813.32302804, 814.13177373, 814.60029919,\n        815.05587058, 814.80326624, 815.66495375, 815.69701661,\n        815.28016483, 814.64371792, 815.1939915 , 815.3372649 ,\n        816.6267119 , 816.71643144, 818.16832502, 817.73945453,\n        816.76772383, 817.11941415, 817.24532995, 817.48931165,\n        818.29769531, 818.68642598, 819.65761048, 819.63989159,\n        820.14985594, 821.01811796, 819.40853025, 819.87148952,\n        821.68511124, 824.29330957, 824.81222709, 824.91261493,\n        824.83760585, 825.2247451 , 825.02938624, 825.85072567,\n        827.17561602, 828.13244553, 828.99475893, 829.10608129,\n        829.2425474 , 829.64067693, 829.28324879, 830.12555177,\n        830.17344443, 829.53333632, 830.88984012, 830.51743286,\n        830.61729796, 830.6079363 , 831.81048863, 832.22262982,\n        831.91573989, 833.20900139, 835.61278063, 836.41556147,\n        836.71517645, 836.59773304, 837.63145403, 838.23391105,\n        839.11792539, 840.20976229, 840.50373427, 841.91410431,\n        841.9816853 , 841.88398342, 842.46638015, 843.18363612,\n        843.15344972, 843.41664207, 844.37675163, 845.23344426,\n        845.70191022, 845.97779721, 846.70950979, 846.87116554,\n        847.30419472, 847.77540478, 848.51894732, 849.50730807,\n        850.78193368, 851.83118985, 854.27643993, 854.69507288,\n        856.85404613, 858.00586491, 858.82728474, 860.48265121,\n        861.2341626 , 861.30194623, 861.40660283, 861.7911429 ,\n        862.23705225, 862.53828725, 862.56906778, 863.45889987]),\n array([1606.52688172, 1092.2311828 ,  970.32258065,  875.27956989,\n         770.99612903,  798.29091995,  714.51788457,  716.90204973,\n         669.42094783,  676.56849462,  700.82475784,  686.5708632 ,\n         689.83126551,  710.91277156,  702.17156511,  718.50861055,\n         713.64884474,  715.52844152,  719.33157597,  710.28701613,\n         713.11325677,  701.54278859,  702.59834949,  699.26525164,\n         706.54504946,  709.31831775,  716.80723336,  708.13591727,\n         702.52668994,  706.53636798,  699.26241706,  702.117219  ,\n         701.44750536,  703.07536183,  705.80668861,  703.7139171 ,\n         702.29079385,  694.6812096 ,  697.55076244,  700.07436156,\n         703.58644048,  703.8632202 ,  706.42900841,  711.83831534,\n         718.22546661,  723.56792081,  721.46884446,  719.37940562,\n         722.63513411,  724.83620645,  727.41977651,  725.91708421,\n         726.05844884,  728.02614422,  724.67014663,  725.83984461,\n         731.28877703,  733.97145615,  735.32814387,  738.65067204,\n         738.59177929,  742.16606805,  737.37192814,  741.08187899,\n         738.00889483,  739.25539115,  740.23361766,  744.12536509,\n         745.52180237,  749.54981347,  748.32050092,  752.98857112,\n         756.51891153,  757.02466481,  759.12181601,  757.34874378,\n         755.34202943,  754.01461616,  754.25802661,  753.7509543 ,\n         750.46301623,  750.34136587,  751.52989884,  752.00231939,\n         753.72358671,  753.33795513,  755.27692043,  756.99732432,\n         756.6509252 ,  757.78793973,  758.92692821,  758.32340641,\n         754.52863094,  755.33108569,  755.32220058,  756.82405657,\n         757.84107301,  758.91169114,  757.65681031,  760.346     ,\n         760.59185848,  758.59637319,  757.76611054,  761.46233776,\n         764.42600444,  764.8801615 ,  765.51436995,  766.13157385,\n         764.600345  ,  764.3009633 ,  767.01248851,  766.95906195,\n         765.47423068,  767.51469187,  766.88485233,  766.37974506,\n         768.8241646 ,  770.83372254,  772.30165387,  773.16754406,\n         773.23477376,  773.32564159,  770.93137725,  772.30403268,\n         773.28827389,  774.14164479,  772.05348877,  774.2043503 ,\n         774.14202517,  775.07278488,  774.30807413,  776.21730316,\n         776.02794276,  776.67155855,  779.34586427,  778.61263115,\n         779.38409365,  780.1044    ,  780.18738817,  783.10116579,\n         784.69832384,  786.6652002 ,  786.39717482,  787.87665677,\n         787.72809533,  787.8079715 ,  785.654665  ,  784.45532117,\n         786.91169825,  789.15318949,  789.14034236,  791.52054664,\n         790.21106256,  790.43454625,  791.29478836,  791.65076695,\n         790.47074997,  791.90830969,  791.59904182,  792.68675067,\n         793.73279356,  795.33109094,  794.999622  ,  797.21057814,\n         799.51573842,  800.31578159,  800.76455704,  801.24108438,\n         802.98872174,  802.53964021,  803.46708389,  805.20561572,\n         806.04425025,  806.69966807,  806.91720588,  806.49384435,\n         805.70356024,  805.11322122,  806.24738499,  806.43662684,\n         807.85295524,  809.21629933,  811.18423093,  812.023175  ,\n         814.25195001,  815.67548986,  815.43657685,  815.00060572,\n         818.59156522,  819.30293927,  818.95044556,  819.28631249,\n         820.68584449,  822.22016298,  820.98167222,  821.93456356,\n         822.42423842,  823.69079439,  824.36235264,  825.51948817]))"
     },
     "execution_count": 39,
     "metadata": {},
     "output_type": "execute_result"
    }
   ],
   "source": [
    "make_qual_chart(X_train, X_test, y_train, y_test, metric=mean_squared_error, limit=200)"
   ],
   "metadata": {
    "pycharm": {
     "name": "#%%\n"
    },
    "id": "IxdSnbmbPnyj",
    "outputId": "6befa4ea-64e8-4681-a968-e8af5545f141"
   },
   "id": "IxdSnbmbPnyj"
  },
  {
   "cell_type": "markdown",
   "metadata": {
    "id": "770d6ecb-37be-4a13-89d0-0c969e634543",
    "pycharm": {
     "name": "#%% md\n"
    }
   },
   "source": [
    "Сделайте вывод о том, **какое число соседей является оптимальным для данной задачи**."
   ],
   "id": "770d6ecb-37be-4a13-89d0-0c969e634543"
  },
  {
   "cell_type": "markdown",
   "source": [
    "Произошла рандомная магия и вышло так что если тренеровать GridSearchCV на MAE метрике, то лучшая МАЕ оценка оказывается хуже, чем если тренеровать на MSE.\n",
    "Так или иначе, лучшие параметры: {'n_neighbors': 19, 'p': 1.4444444444444444, 'weights': 'uniform'}\n",
    "\n",
    "Также можно заметить, что без нормализации можно добиться меньшего MSE, это означает, что не все признаки одинаково важны.  Самым простым способом понять, что важнее всего, будет тренировака на основе этих данных линейной регрессии с последующим исследованием величины весов."
   ],
   "metadata": {
    "collapsed": false,
    "pycharm": {
     "name": "#%% md\n"
    },
    "id": "IQKujbRjPnyk"
   },
   "id": "IQKujbRjPnyk"
  },
  {
   "cell_type": "markdown",
   "metadata": {
    "id": "a87d79ba-c9b2-4fcd-bb61-e3a3561b7309",
    "pycharm": {
     "name": "#%% md\n"
    }
   },
   "source": [
    "### Задача 2: Обучение на геномных эмбеддингах"
   ],
   "id": "a87d79ba-c9b2-4fcd-bb61-e3a3561b7309"
  },
  {
   "cell_type": "markdown",
   "metadata": {
    "id": "018a8ba8-9f12-4aab-9b98-560553982e3b",
    "pycharm": {
     "name": "#%% md\n"
    }
   },
   "source": [
    "В этой задаче предлагается произвести трехклассовую классификацию разных однонуклеотидных замен в ДНК, основываясь на их нейросетевых геномных эмбеддингах."
   ],
   "id": "018a8ba8-9f12-4aab-9b98-560553982e3b"
  },
  {
   "cell_type": "code",
   "metadata": {
    "id": "DRbz9nBPPHo3",
    "pycharm": {
     "name": "#%%\n"
    },
    "outputId": "02a7d72d-aeca-4ffd-9515-9c86494a7aa2"
   },
   "source": [
    "# !wget --no-check-certificate 'https://docs.google.com/uc?export=download&id=1RDTcTnhOcMX4DnJbzdPalWENNFtXi2r8' -O tfs_deepsea.csv\n",
    "\n",
    "import urllib.request\n",
    "urllib.request.urlretrieve(\"https://docs.google.com/uc?export=download&id=1RDTcTnhOcMX4DnJbzdPalWENNFtXi2r8\", \"tfs_deepsea.csv\")"
   ],
   "id": "DRbz9nBPPHo3",
   "execution_count": null,
   "outputs": [
    {
     "data": {
      "text/plain": "('tfs_deepsea.csv', <http.client.HTTPMessage at 0x1aea2e65190>)"
     },
     "execution_count": 28,
     "metadata": {},
     "output_type": "execute_result"
    }
   ]
  },
  {
   "cell_type": "markdown",
   "metadata": {
    "id": "a9c427c4-a23b-4452-92b4-26ed2624ab5f",
    "pycharm": {
     "name": "#%% md\n"
    }
   },
   "source": [
    "Загрузите датасет `tfs_deepsea.csv`, в качестве `y` используйте колонку `Direction`, в качестве `X` - все колонки, начиная с девятой."
   ],
   "id": "a9c427c4-a23b-4452-92b4-26ed2624ab5f"
  },
  {
   "cell_type": "code",
   "metadata": {
    "id": "10bdbee0-9e71-4ad7-8e20-3ba96a47e0c4",
    "pycharm": {
     "name": "#%%\n"
    },
    "outputId": "f9e4790b-dd48-469d-cdd3-e9162221fd72"
   },
   "source": [
    "tfs = pd.read_csv(\"tfs_deepsea.csv\", header=0)\n",
    "tfs.head(3)"
   ],
   "id": "10bdbee0-9e71-4ad7-8e20-3ba96a47e0c4",
   "execution_count": null,
   "outputs": [
    {
     "data": {
      "text/plain": "   Chrom        Pos Ref Alt     Value  Confidence  Direction construction  \\\n0      9  104195582   G   C -0.009418    0.001075          0        ALDOB   \n1      9  104195582   G   T -0.212088    0.034187          0        ALDOB   \n2      9  104195700   T   A  0.709840    0.364072          1        ALDOB   \n\n   alt@BRCA1@ds_HepG2_normal  alt@CTCF@ds_HCM_normal  ...  \\\n0                   0.000056                0.000949  ...   \n1                   0.000051                0.000857  ...   \n2                   0.000089                0.001784  ...   \n\n   ref@GATA3@ds_MCF-7_normal  ref@JunD@ds_H1-hESC_None.1  \\\n0                    0.00934                    0.000637   \n1                    0.00934                    0.000637   \n2                    0.00292                    0.001019   \n\n   ref@MafK@ds_K562_normal  ref@NRSF@ds_A549_EtOH_0.02pct  \\\n0                 0.082889                       0.007880   \n1                 0.082889                       0.007880   \n2                 0.100890                       0.004289   \n\n   ref@Pol2-4H8@ds_GM12891_normal  ref@Pol2@ds_GM12878_None.2  \\\n0                        0.000568                    0.000095   \n1                        0.000568                    0.000095   \n2                        0.000554                    0.000142   \n\n   ref@Pol2@ds_GM12878_None.3  ref@Pol2@ds_GM12878_normal  \\\n0                    0.000287                    0.000147   \n1                    0.000287                    0.000147   \n2                    0.000209                    0.000282   \n\n   ref@c-Fos@ds_K562_normal  ref@c-Myc@ds_K562_normal  \n0                  0.000588                  0.001214  \n1                  0.000588                  0.001214  \n2                  0.001091                  0.000891  \n\n[3 rows x 108 columns]",
      "text/html": "<div>\n<style scoped>\n    .dataframe tbody tr th:only-of-type {\n        vertical-align: middle;\n    }\n\n    .dataframe tbody tr th {\n        vertical-align: top;\n    }\n\n    .dataframe thead th {\n        text-align: right;\n    }\n</style>\n<table border=\"1\" class=\"dataframe\">\n  <thead>\n    <tr style=\"text-align: right;\">\n      <th></th>\n      <th>Chrom</th>\n      <th>Pos</th>\n      <th>Ref</th>\n      <th>Alt</th>\n      <th>Value</th>\n      <th>Confidence</th>\n      <th>Direction</th>\n      <th>construction</th>\n      <th>alt@BRCA1@ds_HepG2_normal</th>\n      <th>alt@CTCF@ds_HCM_normal</th>\n      <th>...</th>\n      <th>ref@GATA3@ds_MCF-7_normal</th>\n      <th>ref@JunD@ds_H1-hESC_None.1</th>\n      <th>ref@MafK@ds_K562_normal</th>\n      <th>ref@NRSF@ds_A549_EtOH_0.02pct</th>\n      <th>ref@Pol2-4H8@ds_GM12891_normal</th>\n      <th>ref@Pol2@ds_GM12878_None.2</th>\n      <th>ref@Pol2@ds_GM12878_None.3</th>\n      <th>ref@Pol2@ds_GM12878_normal</th>\n      <th>ref@c-Fos@ds_K562_normal</th>\n      <th>ref@c-Myc@ds_K562_normal</th>\n    </tr>\n  </thead>\n  <tbody>\n    <tr>\n      <th>0</th>\n      <td>9</td>\n      <td>104195582</td>\n      <td>G</td>\n      <td>C</td>\n      <td>-0.009418</td>\n      <td>0.001075</td>\n      <td>0</td>\n      <td>ALDOB</td>\n      <td>0.000056</td>\n      <td>0.000949</td>\n      <td>...</td>\n      <td>0.00934</td>\n      <td>0.000637</td>\n      <td>0.082889</td>\n      <td>0.007880</td>\n      <td>0.000568</td>\n      <td>0.000095</td>\n      <td>0.000287</td>\n      <td>0.000147</td>\n      <td>0.000588</td>\n      <td>0.001214</td>\n    </tr>\n    <tr>\n      <th>1</th>\n      <td>9</td>\n      <td>104195582</td>\n      <td>G</td>\n      <td>T</td>\n      <td>-0.212088</td>\n      <td>0.034187</td>\n      <td>0</td>\n      <td>ALDOB</td>\n      <td>0.000051</td>\n      <td>0.000857</td>\n      <td>...</td>\n      <td>0.00934</td>\n      <td>0.000637</td>\n      <td>0.082889</td>\n      <td>0.007880</td>\n      <td>0.000568</td>\n      <td>0.000095</td>\n      <td>0.000287</td>\n      <td>0.000147</td>\n      <td>0.000588</td>\n      <td>0.001214</td>\n    </tr>\n    <tr>\n      <th>2</th>\n      <td>9</td>\n      <td>104195700</td>\n      <td>T</td>\n      <td>A</td>\n      <td>0.709840</td>\n      <td>0.364072</td>\n      <td>1</td>\n      <td>ALDOB</td>\n      <td>0.000089</td>\n      <td>0.001784</td>\n      <td>...</td>\n      <td>0.00292</td>\n      <td>0.001019</td>\n      <td>0.100890</td>\n      <td>0.004289</td>\n      <td>0.000554</td>\n      <td>0.000142</td>\n      <td>0.000209</td>\n      <td>0.000282</td>\n      <td>0.001091</td>\n      <td>0.000891</td>\n    </tr>\n  </tbody>\n</table>\n<p>3 rows × 108 columns</p>\n</div>"
     },
     "execution_count": 40,
     "metadata": {},
     "output_type": "execute_result"
    }
   ]
  },
  {
   "cell_type": "code",
   "metadata": {
    "id": "7e5fba7c-2ca3-44eb-9604-68d8cecd8c99",
    "pycharm": {
     "name": "#%%\n"
    },
    "outputId": "3b81f349-ca0a-4821-9d19-63e1d9ff45e0"
   },
   "source": [
    "y, X = tfs['Direction'], tfs.iloc[:, 9:]\n",
    "X"
   ],
   "id": "7e5fba7c-2ca3-44eb-9604-68d8cecd8c99",
   "execution_count": null,
   "outputs": [
    {
     "data": {
      "text/plain": "     alt@CTCF@ds_HCM_normal  alt@DNase@ds_GM06990_normal  \\\n0                  0.000949                     0.005588   \n1                  0.000857                     0.006543   \n2                  0.001784                     0.008986   \n3                  0.001538                     0.008108   \n4                  0.001784                     0.008564   \n..                      ...                          ...   \n995                0.000450                     0.244640   \n996                0.000407                     0.240310   \n997                0.000490                     0.003300   \n998                0.000499                     0.002944   \n999                0.000479                     0.003096   \n\n     alt@DNase@ds_HRE_normal  alt@ELF1@ds_GM12878_normal  \\\n0                   0.032168                    0.000060   \n1                   0.027380                    0.000060   \n2                   0.161180                    0.000086   \n3                   0.118170                    0.000090   \n4                   0.156840                    0.000102   \n..                       ...                         ...   \n995                 0.006866                    0.013020   \n996                 0.004726                    0.012414   \n997                 0.001737                    0.000017   \n998                 0.001520                    0.000017   \n999                 0.002345                    0.000016   \n\n     alt@GATA-1@ds_PBDE_normal  alt@GR@ds_A549_DEX_500pM  \\\n0                     0.006015                  0.000959   \n1                     0.005420                  0.000793   \n2                     0.004401                  0.001779   \n3                     0.004464                  0.001636   \n4                     0.004632                  0.002136   \n..                         ...                       ...   \n995                   0.022697                  0.000082   \n996                   0.018269                  0.000072   \n997                   0.008573                  0.000052   \n998                   0.007892                  0.000050   \n999                   0.009229                  0.000060   \n\n     alt@H3K4me3@ds_NHDF-Ad_normal  alt@H3K9me3@ds_NHLF_normal  \\\n0                         0.002953                    0.000253   \n1                         0.002678                    0.000259   \n2                         0.008086                    0.001602   \n3                         0.008273                    0.001479   \n4                         0.009151                    0.001432   \n..                             ...                         ...   \n995                       0.006869                    0.000458   \n996                       0.006886                    0.000416   \n997                       0.002016                    0.000637   \n998                       0.002075                    0.000647   \n999                       0.002097                    0.000688   \n\n     alt@NRSF@ds_H1-hESC_normal  alt@POU5F1@ds_H1-hESC_normal  ...  \\\n0                      0.000443                      0.000188  ...   \n1                      0.000400                      0.000170  ...   \n2                      0.001637                      0.000405  ...   \n3                      0.001845                      0.000566  ...   \n4                      0.001930                      0.000493  ...   \n..                          ...                           ...  ...   \n995                    0.002982                      0.000692  ...   \n996                    0.001421                      0.000597  ...   \n997                    0.001323                      0.000516  ...   \n998                    0.001352                      0.000560  ...   \n999                    0.001299                      0.000520  ...   \n\n     ref@GATA3@ds_MCF-7_normal  ref@JunD@ds_H1-hESC_None.1  \\\n0                     0.009340                    0.000637   \n1                     0.009340                    0.000637   \n2                     0.002920                    0.001019   \n3                     0.002920                    0.001019   \n4                     0.002920                    0.001019   \n..                         ...                         ...   \n995                   0.000566                    0.000237   \n996                   0.000566                    0.000237   \n997                   0.005459                    0.000162   \n998                   0.005459                    0.000162   \n999                   0.005459                    0.000162   \n\n     ref@MafK@ds_K562_normal  ref@NRSF@ds_A549_EtOH_0.02pct  \\\n0                   0.082889                       0.007880   \n1                   0.082889                       0.007880   \n2                   0.100890                       0.004289   \n3                   0.100890                       0.004289   \n4                   0.100890                       0.004289   \n..                       ...                            ...   \n995                 0.001906                       0.001458   \n996                 0.001906                       0.001458   \n997                 0.001430                       0.002021   \n998                 0.001430                       0.002021   \n999                 0.001430                       0.002021   \n\n     ref@Pol2-4H8@ds_GM12891_normal  ref@Pol2@ds_GM12878_None.2  \\\n0                          0.000568                    0.000095   \n1                          0.000568                    0.000095   \n2                          0.000554                    0.000142   \n3                          0.000554                    0.000142   \n4                          0.000554                    0.000142   \n..                              ...                         ...   \n995                        0.013105                    0.012392   \n996                        0.013105                    0.012392   \n997                        0.000563                    0.000065   \n998                        0.000563                    0.000065   \n999                        0.000563                    0.000065   \n\n     ref@Pol2@ds_GM12878_None.3  ref@Pol2@ds_GM12878_normal  \\\n0                      0.000287                    0.000147   \n1                      0.000287                    0.000147   \n2                      0.000209                    0.000282   \n3                      0.000209                    0.000282   \n4                      0.000209                    0.000282   \n..                          ...                         ...   \n995                    0.018892                    0.005048   \n996                    0.018892                    0.005048   \n997                    0.000303                    0.000116   \n998                    0.000303                    0.000116   \n999                    0.000303                    0.000116   \n\n     ref@c-Fos@ds_K562_normal  ref@c-Myc@ds_K562_normal  \n0                    0.000588                  0.001214  \n1                    0.000588                  0.001214  \n2                    0.001091                  0.000891  \n3                    0.001091                  0.000891  \n4                    0.001091                  0.000891  \n..                        ...                       ...  \n995                  0.000253                  0.011511  \n996                  0.000253                  0.011511  \n997                  0.000067                  0.000452  \n998                  0.000067                  0.000452  \n999                  0.000067                  0.000452  \n\n[1000 rows x 99 columns]",
      "text/html": "<div>\n<style scoped>\n    .dataframe tbody tr th:only-of-type {\n        vertical-align: middle;\n    }\n\n    .dataframe tbody tr th {\n        vertical-align: top;\n    }\n\n    .dataframe thead th {\n        text-align: right;\n    }\n</style>\n<table border=\"1\" class=\"dataframe\">\n  <thead>\n    <tr style=\"text-align: right;\">\n      <th></th>\n      <th>alt@CTCF@ds_HCM_normal</th>\n      <th>alt@DNase@ds_GM06990_normal</th>\n      <th>alt@DNase@ds_HRE_normal</th>\n      <th>alt@ELF1@ds_GM12878_normal</th>\n      <th>alt@GATA-1@ds_PBDE_normal</th>\n      <th>alt@GR@ds_A549_DEX_500pM</th>\n      <th>alt@H3K4me3@ds_NHDF-Ad_normal</th>\n      <th>alt@H3K9me3@ds_NHLF_normal</th>\n      <th>alt@NRSF@ds_H1-hESC_normal</th>\n      <th>alt@POU5F1@ds_H1-hESC_normal</th>\n      <th>...</th>\n      <th>ref@GATA3@ds_MCF-7_normal</th>\n      <th>ref@JunD@ds_H1-hESC_None.1</th>\n      <th>ref@MafK@ds_K562_normal</th>\n      <th>ref@NRSF@ds_A549_EtOH_0.02pct</th>\n      <th>ref@Pol2-4H8@ds_GM12891_normal</th>\n      <th>ref@Pol2@ds_GM12878_None.2</th>\n      <th>ref@Pol2@ds_GM12878_None.3</th>\n      <th>ref@Pol2@ds_GM12878_normal</th>\n      <th>ref@c-Fos@ds_K562_normal</th>\n      <th>ref@c-Myc@ds_K562_normal</th>\n    </tr>\n  </thead>\n  <tbody>\n    <tr>\n      <th>0</th>\n      <td>0.000949</td>\n      <td>0.005588</td>\n      <td>0.032168</td>\n      <td>0.000060</td>\n      <td>0.006015</td>\n      <td>0.000959</td>\n      <td>0.002953</td>\n      <td>0.000253</td>\n      <td>0.000443</td>\n      <td>0.000188</td>\n      <td>...</td>\n      <td>0.009340</td>\n      <td>0.000637</td>\n      <td>0.082889</td>\n      <td>0.007880</td>\n      <td>0.000568</td>\n      <td>0.000095</td>\n      <td>0.000287</td>\n      <td>0.000147</td>\n      <td>0.000588</td>\n      <td>0.001214</td>\n    </tr>\n    <tr>\n      <th>1</th>\n      <td>0.000857</td>\n      <td>0.006543</td>\n      <td>0.027380</td>\n      <td>0.000060</td>\n      <td>0.005420</td>\n      <td>0.000793</td>\n      <td>0.002678</td>\n      <td>0.000259</td>\n      <td>0.000400</td>\n      <td>0.000170</td>\n      <td>...</td>\n      <td>0.009340</td>\n      <td>0.000637</td>\n      <td>0.082889</td>\n      <td>0.007880</td>\n      <td>0.000568</td>\n      <td>0.000095</td>\n      <td>0.000287</td>\n      <td>0.000147</td>\n      <td>0.000588</td>\n      <td>0.001214</td>\n    </tr>\n    <tr>\n      <th>2</th>\n      <td>0.001784</td>\n      <td>0.008986</td>\n      <td>0.161180</td>\n      <td>0.000086</td>\n      <td>0.004401</td>\n      <td>0.001779</td>\n      <td>0.008086</td>\n      <td>0.001602</td>\n      <td>0.001637</td>\n      <td>0.000405</td>\n      <td>...</td>\n      <td>0.002920</td>\n      <td>0.001019</td>\n      <td>0.100890</td>\n      <td>0.004289</td>\n      <td>0.000554</td>\n      <td>0.000142</td>\n      <td>0.000209</td>\n      <td>0.000282</td>\n      <td>0.001091</td>\n      <td>0.000891</td>\n    </tr>\n    <tr>\n      <th>3</th>\n      <td>0.001538</td>\n      <td>0.008108</td>\n      <td>0.118170</td>\n      <td>0.000090</td>\n      <td>0.004464</td>\n      <td>0.001636</td>\n      <td>0.008273</td>\n      <td>0.001479</td>\n      <td>0.001845</td>\n      <td>0.000566</td>\n      <td>...</td>\n      <td>0.002920</td>\n      <td>0.001019</td>\n      <td>0.100890</td>\n      <td>0.004289</td>\n      <td>0.000554</td>\n      <td>0.000142</td>\n      <td>0.000209</td>\n      <td>0.000282</td>\n      <td>0.001091</td>\n      <td>0.000891</td>\n    </tr>\n    <tr>\n      <th>4</th>\n      <td>0.001784</td>\n      <td>0.008564</td>\n      <td>0.156840</td>\n      <td>0.000102</td>\n      <td>0.004632</td>\n      <td>0.002136</td>\n      <td>0.009151</td>\n      <td>0.001432</td>\n      <td>0.001930</td>\n      <td>0.000493</td>\n      <td>...</td>\n      <td>0.002920</td>\n      <td>0.001019</td>\n      <td>0.100890</td>\n      <td>0.004289</td>\n      <td>0.000554</td>\n      <td>0.000142</td>\n      <td>0.000209</td>\n      <td>0.000282</td>\n      <td>0.001091</td>\n      <td>0.000891</td>\n    </tr>\n    <tr>\n      <th>...</th>\n      <td>...</td>\n      <td>...</td>\n      <td>...</td>\n      <td>...</td>\n      <td>...</td>\n      <td>...</td>\n      <td>...</td>\n      <td>...</td>\n      <td>...</td>\n      <td>...</td>\n      <td>...</td>\n      <td>...</td>\n      <td>...</td>\n      <td>...</td>\n      <td>...</td>\n      <td>...</td>\n      <td>...</td>\n      <td>...</td>\n      <td>...</td>\n      <td>...</td>\n      <td>...</td>\n    </tr>\n    <tr>\n      <th>995</th>\n      <td>0.000450</td>\n      <td>0.244640</td>\n      <td>0.006866</td>\n      <td>0.013020</td>\n      <td>0.022697</td>\n      <td>0.000082</td>\n      <td>0.006869</td>\n      <td>0.000458</td>\n      <td>0.002982</td>\n      <td>0.000692</td>\n      <td>...</td>\n      <td>0.000566</td>\n      <td>0.000237</td>\n      <td>0.001906</td>\n      <td>0.001458</td>\n      <td>0.013105</td>\n      <td>0.012392</td>\n      <td>0.018892</td>\n      <td>0.005048</td>\n      <td>0.000253</td>\n      <td>0.011511</td>\n    </tr>\n    <tr>\n      <th>996</th>\n      <td>0.000407</td>\n      <td>0.240310</td>\n      <td>0.004726</td>\n      <td>0.012414</td>\n      <td>0.018269</td>\n      <td>0.000072</td>\n      <td>0.006886</td>\n      <td>0.000416</td>\n      <td>0.001421</td>\n      <td>0.000597</td>\n      <td>...</td>\n      <td>0.000566</td>\n      <td>0.000237</td>\n      <td>0.001906</td>\n      <td>0.001458</td>\n      <td>0.013105</td>\n      <td>0.012392</td>\n      <td>0.018892</td>\n      <td>0.005048</td>\n      <td>0.000253</td>\n      <td>0.011511</td>\n    </tr>\n    <tr>\n      <th>997</th>\n      <td>0.000490</td>\n      <td>0.003300</td>\n      <td>0.001737</td>\n      <td>0.000017</td>\n      <td>0.008573</td>\n      <td>0.000052</td>\n      <td>0.002016</td>\n      <td>0.000637</td>\n      <td>0.001323</td>\n      <td>0.000516</td>\n      <td>...</td>\n      <td>0.005459</td>\n      <td>0.000162</td>\n      <td>0.001430</td>\n      <td>0.002021</td>\n      <td>0.000563</td>\n      <td>0.000065</td>\n      <td>0.000303</td>\n      <td>0.000116</td>\n      <td>0.000067</td>\n      <td>0.000452</td>\n    </tr>\n    <tr>\n      <th>998</th>\n      <td>0.000499</td>\n      <td>0.002944</td>\n      <td>0.001520</td>\n      <td>0.000017</td>\n      <td>0.007892</td>\n      <td>0.000050</td>\n      <td>0.002075</td>\n      <td>0.000647</td>\n      <td>0.001352</td>\n      <td>0.000560</td>\n      <td>...</td>\n      <td>0.005459</td>\n      <td>0.000162</td>\n      <td>0.001430</td>\n      <td>0.002021</td>\n      <td>0.000563</td>\n      <td>0.000065</td>\n      <td>0.000303</td>\n      <td>0.000116</td>\n      <td>0.000067</td>\n      <td>0.000452</td>\n    </tr>\n    <tr>\n      <th>999</th>\n      <td>0.000479</td>\n      <td>0.003096</td>\n      <td>0.002345</td>\n      <td>0.000016</td>\n      <td>0.009229</td>\n      <td>0.000060</td>\n      <td>0.002097</td>\n      <td>0.000688</td>\n      <td>0.001299</td>\n      <td>0.000520</td>\n      <td>...</td>\n      <td>0.005459</td>\n      <td>0.000162</td>\n      <td>0.001430</td>\n      <td>0.002021</td>\n      <td>0.000563</td>\n      <td>0.000065</td>\n      <td>0.000303</td>\n      <td>0.000116</td>\n      <td>0.000067</td>\n      <td>0.000452</td>\n    </tr>\n  </tbody>\n</table>\n<p>1000 rows × 99 columns</p>\n</div>"
     },
     "execution_count": 52,
     "metadata": {},
     "output_type": "execute_result"
    }
   ]
  },
  {
   "cell_type": "markdown",
   "metadata": {
    "id": "de761526-7be2-4f21-b92d-1df55ec1e59e",
    "pycharm": {
     "name": "#%% md\n"
    }
   },
   "source": [
    "**Разбейте X и y на тренировочную и тестовую выборки**, как в лекции. Соотношение train/test поставьте равным 4:1.\\\n",
    "*Подсказка*: воспользуйтесь функцией `train_test_split`."
   ],
   "id": "de761526-7be2-4f21-b92d-1df55ec1e59e"
  },
  {
   "cell_type": "code",
   "metadata": {
    "id": "2685d7e6-1f7a-4c22-9e7d-c4312c39bb53",
    "pycharm": {
     "name": "#%%\n"
    }
   },
   "source": [
    "X_train, X_test, y_train, y_test = \\\n",
    "  train_test_split(X, y, train_size=0.8, random_state=42)"
   ],
   "id": "2685d7e6-1f7a-4c22-9e7d-c4312c39bb53",
   "execution_count": null,
   "outputs": []
  },
  {
   "cell_type": "markdown",
   "metadata": {
    "id": "ec0a711a-5755-4bba-9bed-0a4718d1248d",
    "pycharm": {
     "name": "#%% md\n"
    }
   },
   "source": [
    "**Осуществите стандартизацию признаков в выборке**."
   ],
   "id": "ec0a711a-5755-4bba-9bed-0a4718d1248d"
  },
  {
   "cell_type": "code",
   "metadata": {
    "id": "4ebe265e-aa17-47a7-9faa-727eb06ec19a",
    "pycharm": {
     "name": "#%%\n"
    }
   },
   "source": [
    "normalizer = Normalizer().fit(X_train)\n",
    "X_train_norm = normalizer.transform(X_train)\n",
    "X_test_norm = normalizer.transform(X_test)"
   ],
   "id": "4ebe265e-aa17-47a7-9faa-727eb06ec19a",
   "execution_count": null,
   "outputs": []
  },
  {
   "cell_type": "markdown",
   "metadata": {
    "id": "74eb7e2b-4dc8-4d36-83ab-9ef5cf252886",
    "pycharm": {
     "name": "#%% md\n"
    }
   },
   "source": [
    "**Импортируйте модель логистической регрессии и обучите ее на соответствующей части выборки (`model.fit`)**."
   ],
   "id": "74eb7e2b-4dc8-4d36-83ab-9ef5cf252886"
  },
  {
   "cell_type": "code",
   "metadata": {
    "id": "4a24c5cf-6993-4c8a-8f87-6c061a9bfafa",
    "pycharm": {
     "name": "#%%\n"
    },
    "outputId": "88ab1cb2-8b7e-449c-cd11-48c176b355dd"
   },
   "source": [
    "from sklearn.linear_model import LogisticRegression\n",
    "\n",
    "logreg = LogisticRegression()\n",
    "logreg.fit(X_train_norm, y_train)"
   ],
   "id": "4a24c5cf-6993-4c8a-8f87-6c061a9bfafa",
   "execution_count": null,
   "outputs": [
    {
     "data": {
      "text/plain": "LogisticRegression()"
     },
     "execution_count": 59,
     "metadata": {},
     "output_type": "execute_result"
    }
   ]
  },
  {
   "cell_type": "markdown",
   "metadata": {
    "id": "04d4e9d0-8122-46e1-9341-e5000f3ee715",
    "pycharm": {
     "name": "#%% md\n"
    }
   },
   "source": [
    "**Получите предсказание на оставшейся выборке**. Оцените его качество метриками из отчета о классификации (`classification_report`)."
   ],
   "id": "04d4e9d0-8122-46e1-9341-e5000f3ee715"
  },
  {
   "cell_type": "code",
   "metadata": {
    "id": "c7062e89-3cff-4167-96ee-7b1b3df74f8e",
    "pycharm": {
     "name": "#%%\n"
    },
    "outputId": "d5f9231c-93b3-4fdf-9747-224e42fc2c2a"
   },
   "source": [
    "from sklearn.metrics import classification_report\n",
    "\n",
    "y_pred = logreg.predict(X_test_norm)\n",
    "print(classification_report(y_test, y_pred))"
   ],
   "id": "c7062e89-3cff-4167-96ee-7b1b3df74f8e",
   "execution_count": null,
   "outputs": [
    {
     "name": "stdout",
     "output_type": "stream",
     "text": [
      "              precision    recall  f1-score   support\n",
      "\n",
      "          -1       1.00      0.20      0.33        25\n",
      "           0       0.86      1.00      0.92       167\n",
      "           1       0.00      0.00      0.00         8\n",
      "\n",
      "    accuracy                           0.86       200\n",
      "   macro avg       0.62      0.40      0.42       200\n",
      "weighted avg       0.84      0.86      0.81       200\n",
      "\n"
     ]
    },
    {
     "name": "stderr",
     "output_type": "stream",
     "text": [
      "C:\\Users\\OblakoVShtanakh\\anaconda3\\lib\\site-packages\\sklearn\\metrics\\_classification.py:1318: UndefinedMetricWarning: Precision and F-score are ill-defined and being set to 0.0 in labels with no predicted samples. Use `zero_division` parameter to control this behavior.\n",
      "  _warn_prf(average, modifier, msg_start, len(result))\n",
      "C:\\Users\\OblakoVShtanakh\\anaconda3\\lib\\site-packages\\sklearn\\metrics\\_classification.py:1318: UndefinedMetricWarning: Precision and F-score are ill-defined and being set to 0.0 in labels with no predicted samples. Use `zero_division` parameter to control this behavior.\n",
      "  _warn_prf(average, modifier, msg_start, len(result))\n",
      "C:\\Users\\OblakoVShtanakh\\anaconda3\\lib\\site-packages\\sklearn\\metrics\\_classification.py:1318: UndefinedMetricWarning: Precision and F-score are ill-defined and being set to 0.0 in labels with no predicted samples. Use `zero_division` parameter to control this behavior.\n",
      "  _warn_prf(average, modifier, msg_start, len(result))\n"
     ]
    }
   ]
  },
  {
   "cell_type": "markdown",
   "metadata": {
    "id": "cd886df0-66f0-4e46-8754-ba221400048e",
    "pycharm": {
     "name": "#%% md\n"
    }
   },
   "source": [
    "Разбейте X и y на тренировочную и тестовую выборки, **так, как указано в ячейке ниже**. Повторите все шаги, чтобы определить качество классификации."
   ],
   "id": "cd886df0-66f0-4e46-8754-ba221400048e"
  },
  {
   "cell_type": "code",
   "metadata": {
    "id": "64ed362f-42ad-4fa8-b833-80745c8c962e",
    "pycharm": {
     "name": "#%%\n"
    }
   },
   "source": [
    "X_train = X[tfs[\"construction\"] == \"ECR11\"].values\n",
    "X_test = X[tfs[\"construction\"] == \"ALDOB\"].values\n",
    "y_train = y[tfs[\"construction\"] == \"ECR11\"].values\n",
    "y_test = y[tfs[\"construction\"] == \"ALDOB\"].values"
   ],
   "id": "64ed362f-42ad-4fa8-b833-80745c8c962e",
   "execution_count": null,
   "outputs": []
  },
  {
   "cell_type": "code",
   "metadata": {
    "id": "e42a113c-3483-4887-b526-cdde56fba6f9",
    "pycharm": {
     "name": "#%%\n"
    },
    "outputId": "fc429d5d-d7b5-4aa7-b92a-d28f80c18845"
   },
   "source": [
    "normalizer = Normalizer().fit(X_train)\n",
    "X_train_norm = normalizer.transform(X_train)\n",
    "X_test_norm = normalizer.transform(X_test)\n",
    "\n",
    "logreg = LogisticRegression()\n",
    "logreg.fit(X_train_norm, y_train)\n",
    "\n",
    "y_pred = logreg.predict(X_test_norm)\n",
    "print(classification_report(y_test, y_pred))"
   ],
   "id": "e42a113c-3483-4887-b526-cdde56fba6f9",
   "execution_count": null,
   "outputs": [
    {
     "name": "stdout",
     "output_type": "stream",
     "text": [
      "              precision    recall  f1-score   support\n",
      "\n",
      "          -1       0.00      0.00      0.00        94\n",
      "           0       0.77      0.99      0.87       382\n",
      "           1       0.50      0.12      0.20        24\n",
      "\n",
      "    accuracy                           0.77       500\n",
      "   macro avg       0.42      0.37      0.36       500\n",
      "weighted avg       0.61      0.77      0.67       500\n",
      "\n"
     ]
    }
   ]
  },
  {
   "cell_type": "markdown",
   "metadata": {
    "id": "16bcf556-47ef-460c-aaaf-97442ca77692",
    "pycharm": {
     "name": "#%% md\n"
    }
   },
   "source": [
    "**Сделайте выводы об изменении качества**."
   ],
   "id": "16bcf556-47ef-460c-aaaf-97442ca77692"
  },
  {
   "cell_type": "markdown",
   "source": [
    "F1- score для класса \"-1\" ушел в ноль несмотря на значительное кол-во представленных элементов этого класса (support = 94), в прошлом пункте этого не случилось.   Объясняется это тем, что во втором случае обучение и тестирование проводлиось на данных, характерных для разных сущностей.\n",
    "\n",
    "Тем не менее, для класса \"1\" во втором случае метрики качества отчины от нуля. Объяснить такой результат без глубоких копаний сложно, скорее всего это некий случайный артефакт.\n",
    "\n",
    "Так или иначе, несмотря на значительно меньший размер тренировочной выборки, и в целом непонятное разбиение на трейн и тест, accuracy уменьшился не так сильно как можно было предполагать. Что не отменяет того, что не самым правильным решением будет тренеровать модель на смещенных по классам данных, имея в своем распоряжении более широкую выборку (вряд ли кто-то предказывает курс доллара, тренеруясь на движении звезд)."
   ],
   "metadata": {
    "collapsed": false,
    "pycharm": {
     "name": "#%% md\n"
    },
    "id": "gOZf9D2QPnyp"
   },
   "id": "gOZf9D2QPnyp"
  },
  {
   "cell_type": "markdown",
   "metadata": {
    "id": "e8482c12-6d88-4916-a847-6b5353fe55c1",
    "pycharm": {
     "name": "#%% md\n"
    }
   },
   "source": [
    "### Задача 3: Классификация химических веществ"
   ],
   "id": "e8482c12-6d88-4916-a847-6b5353fe55c1"
  },
  {
   "cell_type": "code",
   "execution_count": null,
   "outputs": [],
   "source": [
    "!wget --no-check-certificate 'https://docs.google.com/uc?export=download&id=1SYdyTbPD01GYcdz7hkyWZGoA5RV44fg7' -O bace.csv\n",
    "\n",
    "#urllib.request.urlretrieve(\"https://docs.google.com/uc?export=download&id=1SYdyTbPD01GYcdz7hkyWZGoA5RV44fg7\", \"bace.csv\")"
   ],
   "metadata": {
    "collapsed": false,
    "pycharm": {
     "name": "#%%\n"
    }
   }
  },
  {
   "cell_type": "markdown",
   "source": [
    "Датасет [BACE](http://moleculenet.ai/datasets-1) загружен за вас, определены `X`, `y` и `smiles`."
   ],
   "metadata": {
    "collapsed": false,
    "pycharm": {
     "name": "#%% md\n"
    }
   }
  },
  {
   "cell_type": "code",
   "execution_count": null,
   "outputs": [],
   "source": [
    "import pandas as pd\n",
    "import numpy as np\n",
    "from sklearn.linear_model import LogisticRegression\n",
    "from sklearn.metrics import classification_report\n",
    "from sklearn.model_selection import train_test_split\n",
    "from sklearn.preprocessing import Normalizer"
   ],
   "metadata": {
    "collapsed": false,
    "pycharm": {
     "name": "#%%\n"
    }
   }
  },
  {
   "cell_type": "code",
   "execution_count": null,
   "outputs": [],
   "source": [
    "bace = pd.read_csv(\"./bace.csv\", header=0)\n",
    "bace.head(3)"
   ],
   "metadata": {
    "collapsed": false,
    "pycharm": {
     "name": "#%%\n"
    }
   }
  },
  {
   "cell_type": "code",
   "execution_count": null,
   "outputs": [],
   "source": [
    "X = bace.iloc[:,4:].values\n",
    "y = bace[\"Class\"].values\n",
    "smiles = bace[\"mol\"].values"
   ],
   "metadata": {
    "collapsed": false,
    "pycharm": {
     "name": "#%%\n"
    }
   }
  },
  {
   "cell_type": "markdown",
   "source": [
    "**Разбейте X и y на тренировочную и тестовую выборки**, как в лекции. Соотношение train/test поставьте равным 3:1.\\\n",
    "*Подсказка*: воспользуйтесь функцией `train_test_split`."
   ],
   "metadata": {
    "collapsed": false,
    "pycharm": {
     "name": "#%% md\n"
    }
   }
  },
  {
   "cell_type": "code",
   "execution_count": null,
   "outputs": [],
   "source": [
    "X_train, X_test, y_train, y_test = \\\n",
    "  train_test_split(X, y, train_size=0.75, random_state=42)"
   ],
   "metadata": {
    "collapsed": false,
    "pycharm": {
     "name": "#%%\n"
    }
   }
  },
  {
   "cell_type": "markdown",
   "source": [
    "**Осуществите стандартизацию признаков в выборке**."
   ],
   "metadata": {
    "collapsed": false,
    "pycharm": {
     "name": "#%% md\n"
    }
   }
  },
  {
   "cell_type": "code",
   "execution_count": null,
   "outputs": [],
   "source": [
    "normalizer = Normalizer().fit(X_train)\n",
    "X_train_norm = normalizer.transform(X_train)\n",
    "X_test_norm = normalizer.transform(X_test)"
   ],
   "metadata": {
    "collapsed": false,
    "pycharm": {
     "name": "#%%\n"
    }
   }
  },
  {
   "cell_type": "markdown",
   "source": [
    "**Импортируйте модель логистической регрессии и обучите ее на соответствующей части выборки (`model.fit`)**."
   ],
   "metadata": {
    "collapsed": false,
    "pycharm": {
     "name": "#%% md\n"
    }
   }
  },
  {
   "cell_type": "code",
   "execution_count": null,
   "outputs": [],
   "source": [
    "logreg = LogisticRegression()\n",
    "logreg.fit(X_train_norm, y_train)"
   ],
   "metadata": {
    "collapsed": false,
    "pycharm": {
     "name": "#%%\n"
    }
   }
  },
  {
   "cell_type": "markdown",
   "source": [
    "**Получите предсказание на оставшейся выборке**. Оцените его качество метриками из отчета о классификации (`classification_report`)."
   ],
   "metadata": {
    "collapsed": false,
    "pycharm": {
     "name": "#%% md\n"
    }
   }
  },
  {
   "cell_type": "code",
   "execution_count": null,
   "outputs": [],
   "source": [
    "y_pred = logreg.predict(X_test_norm)\n",
    "print(classification_report(y_test, y_pred))"
   ],
   "metadata": {
    "collapsed": false,
    "pycharm": {
     "name": "#%%\n"
    }
   }
  },
  {
   "cell_type": "markdown",
   "source": [
    "              precision    recall  f1-score   support\n",
    "\n",
    "           0       0.61      0.77      0.68       203\n",
    "           1       0.62      0.43      0.51       176\n",
    "\n",
    "    accuracy                           0.61       379\n",
    "   macro avg       0.61      0.60      0.59       379\n",
    "weighted avg       0.61      0.61      0.60       379"
   ],
   "metadata": {
    "collapsed": false,
    "pycharm": {
     "name": "#%% md\n"
    }
   }
  },
  {
   "cell_type": "markdown",
   "source": [
    "Функция `fingerprint_train_test_split`, приведенная ниже, осуществляет **разбиение train/test на основании молекулярных \"отпечатков\" (molecular fingerprints)**. Воспользуйтесь ей, чтобы получить **неслучайное разбиение на train/test** и повторите предыдущие шаги, чтобы оценить качество модели на таком случае."
   ],
   "metadata": {
    "collapsed": false,
    "pycharm": {
     "name": "#%% md\n"
    }
   }
  },
  {
   "cell_type": "code",
   "execution_count": null,
   "outputs": [],
   "source": [
    "!pip install rdkit-pypi"
   ],
   "metadata": {
    "collapsed": false,
    "pycharm": {
     "name": "#%%\n"
    }
   }
  },
  {
   "cell_type": "code",
   "execution_count": null,
   "outputs": [],
   "source": [
    "from rdkit import Chem\n",
    "from rdkit.Chem import AllChem\n",
    "from rdkit import DataStructs"
   ],
   "metadata": {
    "collapsed": false,
    "pycharm": {
     "name": "#%%\n"
    }
   }
  },
  {
   "cell_type": "code",
   "execution_count": null,
   "outputs": [],
   "source": [
    "from rdkit import rdBase"
   ],
   "metadata": {
    "collapsed": false,
    "pycharm": {
     "name": "#%%\n"
    }
   }
  },
  {
   "cell_type": "code",
   "execution_count": null,
   "outputs": [],
   "source": [
    "def _split_fingerprints(fps, size1, size2):\n",
    "    \"\"\"This is called by fingerprint_train_test_split to divide a list of fingerprints into\n",
    "    two groups.\n",
    "    \"\"\"\n",
    "    assert len(fps) == size1 + size2\n",
    "\n",
    "    # Begin by assigning the first molecule to the first group.\n",
    "\n",
    "    fp_in_group = [[fps[0]], []]\n",
    "    indices_in_group = ([0], [])\n",
    "    remaining_fp = fps[1:]\n",
    "    remaining_indices = list(range(1, len(fps)))\n",
    "    max_similarity_to_group = [\n",
    "        DataStructs.BulkTanimotoSimilarity(fps[0], remaining_fp),\n",
    "        [0] * len(remaining_fp)\n",
    "    ]\n",
    "    while len(remaining_fp) > 0:\n",
    "    # Decide which group to assign a molecule to.\n",
    "        group = 0 if len(fp_in_group[0]) / size1 <= len(\n",
    "            fp_in_group[1]) / size2 else 1\n",
    "\n",
    "        # Identify the unassigned molecule that is least similar to everything in\n",
    "        # the other group.\n",
    "\n",
    "        i = np.argmin(max_similarity_to_group[1 - group])\n",
    "\n",
    "        # Add it to the group.\n",
    "\n",
    "        fp = remaining_fp[i]\n",
    "        fp_in_group[group].append(fp)\n",
    "        indices_in_group[group].append(remaining_indices[i])\n",
    "\n",
    "        # Update the data on unassigned molecules.\n",
    "\n",
    "        similarity = DataStructs.BulkTanimotoSimilarity(fp, remaining_fp)\n",
    "        max_similarity_to_group[group] = np.delete(\n",
    "            np.maximum(similarity, max_similarity_to_group[group]), i)\n",
    "        max_similarity_to_group[1 - group] = np.delete(\n",
    "            max_similarity_to_group[1 - group], i)\n",
    "        del remaining_fp[i]\n",
    "        del remaining_indices[i]\n",
    "    return indices_in_group"
   ],
   "metadata": {
    "collapsed": false,
    "pycharm": {
     "name": "#%%\n"
    }
   }
  },
  {
   "cell_type": "code",
   "execution_count": null,
   "outputs": [],
   "source": [
    "def fingerprint_train_test_split(X, y, smiles, test_size=0.1):\n",
    "    assert X.shape[0] == y.shape[0] == smiles.shape[0]\n",
    "    mols = [Chem.MolFromSmiles(s) for s in smiles]\n",
    "    fps = [AllChem.GetMorganFingerprintAsBitVect(x, 2, 1024) for x in mols]\n",
    "\n",
    "    # Split into two groups: training set and everything else.\n",
    "\n",
    "    test_size = int(test_size * len(y))\n",
    "    train_size = len(y) - test_size\n",
    "    train_inds, test_inds = _split_fingerprints(fps, train_size, test_size)\n",
    "    \n",
    "    X_train = X[train_inds,:]\n",
    "    X_test = X[test_inds,:]\n",
    "    y_train = y[train_inds]\n",
    "    y_test = y[test_inds]\n",
    "    \n",
    "    return X_train, X_test, y_train, y_test"
   ],
   "metadata": {
    "collapsed": false,
    "pycharm": {
     "name": "#%%\n"
    }
   }
  },
  {
   "cell_type": "code",
   "execution_count": null,
   "outputs": [],
   "source": [
    "X_train, X_test, y_train, y_test = fingerprint_train_test_split(X, y, smiles, test_size=0.25)"
   ],
   "metadata": {
    "collapsed": false,
    "pycharm": {
     "name": "#%%\n"
    }
   }
  },
  {
   "cell_type": "code",
   "execution_count": null,
   "outputs": [],
   "source": [
    "normalizer = Normalizer().fit(X_train)\n",
    "X_train_norm = normalizer.transform(X_train)\n",
    "X_test_norm = normalizer.transform(X_test)\n",
    "\n",
    "logreg = LogisticRegression()\n",
    "logreg.fit(X_train_norm, y_train)\n",
    "\n",
    "y_pred = logreg.predict(X_test_norm)\n",
    "print(classification_report(y_test, y_pred))"
   ],
   "metadata": {
    "collapsed": false,
    "pycharm": {
     "name": "#%%\n"
    }
   }
  },
  {
   "cell_type": "raw",
   "source": [
    "              precision    recall  f1-score   support\n",
    "\n",
    "           0       0.50      0.87      0.64       174\n",
    "           1       0.71      0.27      0.39       204\n",
    "\n",
    "    accuracy                           0.54       378\n",
    "   macro avg       0.60      0.57      0.51       378\n",
    "weighted avg       0.61      0.54      0.50       378"
   ],
   "metadata": {
    "collapsed": false,
    "pycharm": {
     "name": "#%% raw\n"
    }
   }
  },
  {
   "cell_type": "markdown",
   "source": [
    "**Сделайте выводы**: accuracy стал ниже, опять же из-за намеренной разбалансировки трейн и теста. Из этого следует, что сам фингерпринт было бы полезно использовать в классификаторе, так как он на что-то влияет и может помочь с предсказаниями."
   ],
   "metadata": {
    "collapsed": false,
    "pycharm": {
     "name": "#%% md\n"
    }
   }
  },
  {
   "cell_type": "code",
   "execution_count": 28,
   "outputs": [
    {
     "output_type": "stream",
     "name": "stdout",
     "text": [
      "              precision    recall  f1-score   support\n",
      "\n",
      "           0       0.65      0.64      0.65       174\n",
      "           1       0.70      0.71      0.71       204\n",
      "\n",
      "    accuracy                           0.68       378\n",
      "   macro avg       0.68      0.68      0.68       378\n",
      "weighted avg       0.68      0.68      0.68       378\n",
      "\n"
     ]
    }
   ],
   "source": [
    "from sklearn.neighbors import KNeighborsClassifier\n",
    "\n",
    "knn = KNeighborsClassifier()\n",
    "knn.fit(X_train_norm, y_train)\n",
    "\n",
    "y_pred = knn.predict(X_test_norm)\n",
    "print(classification_report(y_test, y_pred))"
   ],
   "metadata": {
    "collapsed": false,
    "pycharm": {
     "name": "#%%\n"
    }
   }
  },
  {
   "cell_type": "markdown",
   "source": [
    "**Доп. вывод**: КНН лучше предсказывает класс, что объясняется тем, что без заморочек с ядрами, логрег просто строит разделяющую гиперповерхность,   "
   ],
   "metadata": {
    "id": "lIdADK2pRnEw",
    "pycharm": {
     "name": "#%% md\n"
    }
   },
   "id": "lIdADK2pRnEw"
  },
  {
   "cell_type": "markdown",
   "metadata": {
    "id": "8e230a47-c382-40eb-8512-57353a4a8df0",
    "pycharm": {
     "name": "#%% md\n"
    }
   },
   "source": [
    "---"
   ],
   "id": "8e230a47-c382-40eb-8512-57353a4a8df0"
  }
 ]
}